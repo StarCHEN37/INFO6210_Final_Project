{
 "cells": [
  {
   "cell_type": "code",
   "execution_count": 1,
   "metadata": {},
   "outputs": [],
   "source": [
    "import pymysql"
   ]
  },
  {
   "cell_type": "code",
   "execution_count": 2,
   "metadata": {},
   "outputs": [],
   "source": [
    "conn=pymysql.connect(host='localhost',user='root',passwd='11111111',db='mydb',port=3306)\n",
    "cur=conn.cursor()"
   ]
  },
  {
   "cell_type": "code",
   "execution_count": 3,
   "metadata": {},
   "outputs": [
    {
     "data": {
      "text/plain": [
       "3"
      ]
     },
     "execution_count": 3,
     "metadata": {},
     "output_type": "execute_result"
    }
   ],
   "source": [
    "cur.execute('select * from music_company')"
   ]
  },
  {
   "cell_type": "code",
   "execution_count": 4,
   "metadata": {},
   "outputs": [],
   "source": [
    "D = cur.fetchall()"
   ]
  },
  {
   "cell_type": "code",
   "execution_count": 6,
   "metadata": {},
   "outputs": [
    {
     "data": {
      "text/plain": [
       "187"
      ]
     },
     "execution_count": 6,
     "metadata": {},
     "output_type": "execute_result"
    }
   ],
   "source": [
    "cur.execute('select * from music')"
   ]
  },
  {
   "cell_type": "code",
   "execution_count": 7,
   "metadata": {},
   "outputs": [],
   "source": [
    "D = cur.fetchall()"
   ]
  },
  {
   "cell_type": "code",
   "execution_count": null,
   "metadata": {},
   "outputs": [],
   "source": []
  },
  {
   "cell_type": "code",
   "execution_count": null,
   "metadata": {},
   "outputs": [],
   "source": []
  },
  {
   "cell_type": "code",
   "execution_count": null,
   "metadata": {},
   "outputs": [
    {
     "name": "stdout",
     "output_type": "stream",
     "text": [
      "####Please input the table name that you want to search in databse： ####\n"
     ]
    }
   ],
   "source": [
    "print('####Please input the table name that you want to search in databse： ####')\n",
    "name = input()\n",
    "name = str(name)\n",
    "if(name == 'music'):\n",
    "    cur.execute('select * from music')\n",
    "    D = cur.fetchall()\n",
    "    print('id         ','music_name         ','musician          ','album          ','company         ',' time')\n",
    "    for d in D:\n",
    "        print(d)\n",
    "    \n",
    "elif(name == 'musician'):\n",
    "    cur.execute('select * from musician')\n",
    "    D = cur.fetchall()\n",
    "    for d in D:\n",
    "        print(d)\n",
    "        \n",
    "elif(name == 'music_company'):\n",
    "    cur.execute('select * from music_company')\n",
    "    D = cur.fetchall()\n",
    "    for d in D:\n",
    "        print(d)\n",
    "        \n",
    "elif(name == 'musician_tweet_info'):\n",
    "    cur.execute('select * from musician_tweet_info')\n",
    "    D = cur.fetchall()\n",
    "    for d in D:\n",
    "        print(d)\n",
    "        \n",
    "elif(name == 'musician_posts'):\n",
    "    cur.execute('select * from musician_posts')\n",
    "    D = cur.fetchall()\n",
    "    for d in D:\n",
    "        print(d)\n",
    "        \n",
    "elif(name == 'album'):\n",
    "    cur.execute('select * from album')\n",
    "    D = cur.fetchall()\n",
    "    for d in D:\n",
    "        print(d)\n",
    "        \n",
    "elif(name == 'comments'):\n",
    "    cur.execute('select * from comments')\n",
    "    D = cur.fetchall()\n",
    "    for d in D:\n",
    "        print(d)\n",
    "    \n",
    "elif(name == 'music_lover_info'):\n",
    "    cur.execute('select * from music_lover_info')\n",
    "    D = cur.fetchall()\n",
    "    for d in D:\n",
    "        print(d)\n",
    "\n",
    "elif(name == 'music_lover_tweet'):\n",
    "    cur.execute('select * from music_lover_tweet')\n",
    "    D = cur.fetchall()\n",
    "    for d in D:\n",
    "        print(d)\n",
    "\n",
    "elif(name == 'hashtags'):\n",
    "    cur.execute('select * from hashtags')\n",
    "    D = cur.fetchall()\n",
    "    for d in D:\n",
    "        print(d)\n",
    "        \n",
    "else:\n",
    "    print('Invalid input. Please try again!')"
   ]
  },
  {
   "cell_type": "code",
   "execution_count": null,
   "metadata": {},
   "outputs": [],
   "source": []
  },
  {
   "cell_type": "code",
   "execution_count": null,
   "metadata": {},
   "outputs": [],
   "source": []
  },
  {
   "cell_type": "code",
   "execution_count": null,
   "metadata": {},
   "outputs": [],
   "source": []
  },
  {
   "cell_type": "code",
   "execution_count": null,
   "metadata": {},
   "outputs": [],
   "source": []
  },
  {
   "cell_type": "code",
   "execution_count": null,
   "metadata": {},
   "outputs": [],
   "source": []
  }
 ],
 "metadata": {
  "kernelspec": {
   "display_name": "Python 3",
   "language": "python",
   "name": "python3"
  },
  "language_info": {
   "codemirror_mode": {
    "name": "ipython",
    "version": 3
   },
   "file_extension": ".py",
   "mimetype": "text/x-python",
   "name": "python",
   "nbconvert_exporter": "python",
   "pygments_lexer": "ipython3",
   "version": "3.6.5"
  }
 },
 "nbformat": 4,
 "nbformat_minor": 2
}
